{
 "cells": [
  {
   "cell_type": "code",
   "execution_count": 48,
   "metadata": {
    "collapsed": true
   },
   "outputs": [],
   "source": [
    "import requests\n",
    "\n",
    "import pandas as pd\n",
    "import numpy as np\n",
    "import matplotlib.pyplot as plt\n",
    "import random\n",
    "\n",
    "%matplotlib inline"
   ]
  },
  {
   "cell_type": "code",
   "execution_count": 2,
   "metadata": {
    "collapsed": true
   },
   "outputs": [],
   "source": [
    "from scipy.cluster.vq import whiten, kmeans2"
   ]
  },
  {
   "cell_type": "code",
   "execution_count": 3,
   "metadata": {
    "collapsed": true
   },
   "outputs": [],
   "source": [
    "def call_api(uri, result_key):\n",
    "    json = {}\n",
    "    try:\n",
    "        json = requests.get(uri, headers = { 'X-Auth-Token': '6343e2401b274e4b9d3233b7291115e5' }).json()\n",
    "        return json[result_key]\n",
    "    except:\n",
    "        print(json)\n",
    "        return None"
   ]
  },
  {
   "cell_type": "code",
   "execution_count": 4,
   "metadata": {},
   "outputs": [
    {
     "data": {
      "text/plain": [
       "[{'_links': {'fixtures': {'href': 'http://api.football-data.org/v1/teams/496/fixtures'},\n",
       "   'players': {'href': 'http://api.football-data.org/v1/teams/496/players'},\n",
       "   'self': {'href': 'http://api.football-data.org/v1/teams/496'}},\n",
       "  'code': None,\n",
       "  'crestUrl': 'http://upload.wikimedia.org/wikipedia/de/6/63/Rio_Ave_FC.svg',\n",
       "  'name': 'FC Rio Ave',\n",
       "  'shortName': 'Rio Ave',\n",
       "  'squadMarketValue': None},\n",
       " {'_links': {'fixtures': {'href': 'http://api.football-data.org/v1/teams/503/fixtures'},\n",
       "   'players': {'href': 'http://api.football-data.org/v1/teams/503/players'},\n",
       "   'self': {'href': 'http://api.football-data.org/v1/teams/503'}},\n",
       "  'code': 'FCP',\n",
       "  'crestUrl': 'http://upload.wikimedia.org/wikipedia/de/e/ed/FC_Porto_1922-2005.svg',\n",
       "  'name': 'FC Porto',\n",
       "  'shortName': 'Porto',\n",
       "  'squadMarketValue': None},\n",
       " {'_links': {'fixtures': {'href': 'http://api.football-data.org/v1/teams/583/fixtures'},\n",
       "   'players': {'href': 'http://api.football-data.org/v1/teams/583/players'},\n",
       "   'self': {'href': 'http://api.football-data.org/v1/teams/583'}},\n",
       "  'code': None,\n",
       "  'crestUrl': 'https://upload.wikimedia.org/wikipedia/pt/8/8c/Logo_Moreirense.svg',\n",
       "  'name': 'Moreirense FC',\n",
       "  'shortName': 'Moreirense',\n",
       "  'squadMarketValue': None},\n",
       " {'_links': {'fixtures': {'href': 'http://api.football-data.org/v1/teams/507/fixtures'},\n",
       "   'players': {'href': 'http://api.football-data.org/v1/teams/507/players'},\n",
       "   'self': {'href': 'http://api.football-data.org/v1/teams/507'}},\n",
       "  'code': None,\n",
       "  'crestUrl': 'http://upload.wikimedia.org/wikipedia/de/f/f2/FC_Pacos_de_Ferreira.svg',\n",
       "  'name': 'FC Paços de Ferreira',\n",
       "  'shortName': 'Ferreira',\n",
       "  'squadMarketValue': None},\n",
       " {'_links': {'fixtures': {'href': 'http://api.football-data.org/v1/teams/498/fixtures'},\n",
       "   'players': {'href': 'http://api.football-data.org/v1/teams/498/players'},\n",
       "   'self': {'href': 'http://api.football-data.org/v1/teams/498'}},\n",
       "  'code': 'SCP',\n",
       "  'crestUrl': 'https://upload.wikimedia.org/wikipedia/en/3/3e/Sporting_Clube_de_Portugal.png',\n",
       "  'name': 'Sporting CP',\n",
       "  'shortName': 'Sporting',\n",
       "  'squadMarketValue': None},\n",
       " {'_links': {'fixtures': {'href': 'http://api.football-data.org/v1/teams/504/fixtures'},\n",
       "   'players': {'href': 'http://api.football-data.org/v1/teams/504/players'},\n",
       "   'self': {'href': 'http://api.football-data.org/v1/teams/504'}},\n",
       "  'code': None,\n",
       "  'crestUrl': 'http://upload.wikimedia.org/wikipedia/de/3/3b/Marítimo_Funchal.svg',\n",
       "  'name': 'Maritimo Funchal',\n",
       "  'shortName': 'M Funchal',\n",
       "  'squadMarketValue': None},\n",
       " {'_links': {'fixtures': {'href': 'http://api.football-data.org/v1/teams/1049/fixtures'},\n",
       "   'players': {'href': 'http://api.football-data.org/v1/teams/1049/players'},\n",
       "   'self': {'href': 'http://api.football-data.org/v1/teams/1049'}},\n",
       "  'code': None,\n",
       "  'crestUrl': 'https://upload.wikimedia.org/wikipedia/commons/f/fc/Emblema_CD_Tondela.png',\n",
       "  'name': 'CD Tondela',\n",
       "  'shortName': 'Tondela',\n",
       "  'squadMarketValue': None},\n",
       " {'_links': {'fixtures': {'href': 'http://api.football-data.org/v1/teams/495/fixtures'},\n",
       "   'players': {'href': 'http://api.football-data.org/v1/teams/495/players'},\n",
       "   'self': {'href': 'http://api.football-data.org/v1/teams/495'}},\n",
       "  'code': 'SLB',\n",
       "  'crestUrl': 'http://upload.wikimedia.org/wikipedia/de/8/89/Logo_Benfica_Lissabon.svg',\n",
       "  'name': 'SL Benfica',\n",
       "  'shortName': 'Lisbon',\n",
       "  'squadMarketValue': None},\n",
       " {'_links': {'fixtures': {'href': 'http://api.football-data.org/v1/teams/810/fixtures'},\n",
       "   'players': {'href': 'http://api.football-data.org/v1/teams/810/players'},\n",
       "   'self': {'href': 'http://api.football-data.org/v1/teams/810'}},\n",
       "  'code': None,\n",
       "  'crestUrl': 'http://upload.wikimedia.org/wikipedia/en/4/40/Boavista_F.C._logo.svg',\n",
       "  'name': 'Boavista Porto FC',\n",
       "  'shortName': 'Boavista',\n",
       "  'squadMarketValue': None},\n",
       " {'_links': {'fixtures': {'href': 'http://api.football-data.org/v1/teams/712/fixtures'},\n",
       "   'players': {'href': 'http://api.football-data.org/v1/teams/712/players'},\n",
       "   'self': {'href': 'http://api.football-data.org/v1/teams/712'}},\n",
       "  'code': None,\n",
       "  'crestUrl': 'http://upload.wikimedia.org/wikipedia/de/b/b4/FC_Arouca.png',\n",
       "  'name': 'FC Arouca',\n",
       "  'shortName': 'Arouca',\n",
       "  'squadMarketValue': None},\n",
       " {'_links': {'fixtures': {'href': 'http://api.football-data.org/v1/teams/506/fixtures'},\n",
       "   'players': {'href': 'http://api.football-data.org/v1/teams/506/players'},\n",
       "   'self': {'href': 'http://api.football-data.org/v1/teams/506'}},\n",
       "  'code': None,\n",
       "  'crestUrl': 'http://upload.wikimedia.org/wikipedia/de/b/bd/Vitória_Setúbal.svg',\n",
       "  'name': 'Vitoria Setubal',\n",
       "  'shortName': 'Setubal',\n",
       "  'squadMarketValue': None},\n",
       " {'_links': {'fixtures': {'href': 'http://api.football-data.org/v1/teams/711/fixtures'},\n",
       "   'players': {'href': 'http://api.football-data.org/v1/teams/711/players'},\n",
       "   'self': {'href': 'http://api.football-data.org/v1/teams/711'}},\n",
       "  'code': None,\n",
       "  'crestUrl': 'http://upload.wikimedia.org/wikipedia/de/d/db/Belenenses_Lissabon.svg',\n",
       "  'name': 'C.F. Os Belenenses',\n",
       "  'shortName': 'B. Lisbon',\n",
       "  'squadMarketValue': None},\n",
       " {'_links': {'fixtures': {'href': 'http://api.football-data.org/v1/teams/502/fixtures'},\n",
       "   'players': {'href': 'http://api.football-data.org/v1/teams/502/players'},\n",
       "   'self': {'href': 'http://api.football-data.org/v1/teams/502'}},\n",
       "  'code': None,\n",
       "  'crestUrl': 'http://upload.wikimedia.org/wikipedia/de/8/81/Vitoria_Guimaraes.svg',\n",
       "  'name': 'Vitoria Guimaraes',\n",
       "  'shortName': 'Guimares',\n",
       "  'squadMarketValue': None},\n",
       " {'_links': {'fixtures': {'href': 'http://api.football-data.org/v1/teams/497/fixtures'},\n",
       "   'players': {'href': 'http://api.football-data.org/v1/teams/497/players'},\n",
       "   'self': {'href': 'http://api.football-data.org/v1/teams/497'}},\n",
       "  'code': None,\n",
       "  'crestUrl': 'http://upload.wikimedia.org/wikipedia/de/f/f3/Sporting_Clube_de_Braga.svg',\n",
       "  'name': 'Sporting Braga',\n",
       "  'shortName': 'Braga',\n",
       "  'squadMarketValue': None},\n",
       " {'_links': {'fixtures': {'href': 'http://api.football-data.org/v1/teams/582/fixtures'},\n",
       "   'players': {'href': 'http://api.football-data.org/v1/teams/582/players'},\n",
       "   'self': {'href': 'http://api.football-data.org/v1/teams/582'}},\n",
       "  'code': None,\n",
       "  'crestUrl': 'http://upload.wikimedia.org/wikipedia/de/1/14/GD_Estoril_Praia.svg',\n",
       "  'name': 'GD Estoril Praia',\n",
       "  'shortName': 'Estoril',\n",
       "  'squadMarketValue': None},\n",
       " {'_links': {'fixtures': {'href': 'http://api.football-data.org/v1/teams/500/fixtures'},\n",
       "   'players': {'href': 'http://api.football-data.org/v1/teams/500/players'},\n",
       "   'self': {'href': 'http://api.football-data.org/v1/teams/500'}},\n",
       "  'code': None,\n",
       "  'crestUrl': None,\n",
       "  'name': 'Feirense',\n",
       "  'shortName': None,\n",
       "  'squadMarketValue': None},\n",
       " {'_links': {'fixtures': {'href': 'http://api.football-data.org/v1/teams/501/fixtures'},\n",
       "   'players': {'href': 'http://api.football-data.org/v1/teams/501/players'},\n",
       "   'self': {'href': 'http://api.football-data.org/v1/teams/501'}},\n",
       "  'code': None,\n",
       "  'crestUrl': 'http://upload.wikimedia.org/wikipedia/de/e/ee/Nacional_Funchal.svg',\n",
       "  'name': 'Nacional Funchal',\n",
       "  'shortName': 'Funchal',\n",
       "  'squadMarketValue': None},\n",
       " {'_links': {'fixtures': {'href': 'http://api.football-data.org/v1/teams/1103/fixtures'},\n",
       "   'players': {'href': 'http://api.football-data.org/v1/teams/1103/players'},\n",
       "   'self': {'href': 'http://api.football-data.org/v1/teams/1103'}},\n",
       "  'code': None,\n",
       "  'crestUrl': 'https://upload.wikimedia.org/wikipedia/en/0/05/G_D_Chaves.png',\n",
       "  'name': 'G.D. Chaves',\n",
       "  'shortName': 'Chaves',\n",
       "  'squadMarketValue': None}]"
      ]
     },
     "execution_count": 4,
     "metadata": {},
     "output_type": "execute_result"
    }
   ],
   "source": [
    "teams = call_api('http://api.football-data.org/v1/soccerseasons/439/teams', 'teams')\n",
    "teams"
   ]
  },
  {
   "cell_type": "code",
   "execution_count": 46,
   "metadata": {},
   "outputs": [
    {
     "name": "stdout",
     "output_type": "stream",
     "text": [
      "Team \"FC Rio Ave\", 23 players, 31 goals, 9 lose.\n",
      "Team \"FC Porto\", 26 players, 76 goals, 3 lose.\n",
      "Team \"Moreirense FC\", 25 players, 18 goals, 12 lose.\n",
      "Team \"FC Paços de Ferreira\", 31 players, 25 goals, 12 lose.\n",
      "Team \"Sporting CP\", 27 players, 55 goals, 4 lose.\n",
      "Team \"Maritimo Funchal\", 28 players, 18 goals, 9 lose.\n",
      "Team \"CD Tondela\", 26 players, 27 goals, 12 lose.\n",
      "Team \"SL Benfica\", 24 players, 60 goals, 7 lose.\n",
      "Team \"Boavista Porto FC\", 29 players, 23 goals, 11 lose.\n",
      "Team \"FC Arouca\", 21 players, 0 goals, 0 lose.\n",
      "Team \"Vitoria Setubal\", 28 players, 26 goals, 10 lose.\n",
      "Team \"C.F. Os Belenenses\", 25 players, 21 goals, 11 lose.\n",
      "Team \"Vitoria Guimaraes\", 30 players, 30 goals, 12 lose.\n",
      "Team \"Sporting Braga\", 24 players, 48 goals, 6 lose.\n",
      "Team \"GD Estoril Praia\", 29 players, 23 goals, 14 lose.\n",
      "Team \"Feirense\", 29 players, 20 goals, 15 lose.\n",
      "Team \"Nacional Funchal\", 18 players, 0 goals, 0 lose.\n",
      "Team \"G.D. Chaves\", 22 players, 29 goals, 8 lose.\n"
     ]
    }
   ],
   "source": [
    "for team in teams:\n",
    "    players = call_api(team['_links']['players']['href'], 'players')\n",
    "    fixtures = call_api(team['_links']['fixtures']['href'], 'fixtures')\n",
    "    lose = 0\n",
    "    goals = 0\n",
    "    goals_score = 0\n",
    "    goals_miss = 0\n",
    "    for f in fixtures:\n",
    "        goals_score = 0\n",
    "        goals_miss = 0\n",
    "        if team['name'] == f['homeTeamName']:\n",
    "            goals += f['result']['goalsHomeTeam'] if f['result']['goalsHomeTeam'] else 0\n",
    "            goals_score += f['result']['goalsHomeTeam'] if f['result']['goalsHomeTeam'] else 0\n",
    "            goals_miss += f['result']['goalsAwayTeam'] if f['result']['goalsAwayTeam'] else 0\n",
    "        else:\n",
    "            goals += f['result']['goalsAwayTeam'] if f['result']['goalsAwayTeam'] else 0\n",
    "            goals_miss += f['result']['goalsHomeTeam'] if f['result']['goalsHomeTeam'] else 0\n",
    "            goals_score += f['result']['goalsAwayTeam'] if f['result']['goalsAwayTeam'] else 0\n",
    "        if (goals_score - goals_miss) < 0: lose += 1\n",
    "        \n",
    "    print('Team \"{}\", {} players, {} goals, {} lose.'.format(team['name'], len(players), goals, lose))\n",
    "#     print(lose)\n",
    "    team['players'] = players\n",
    "    team['goals'] = goals\n",
    "    team['lose'] = lose"
   ]
  },
  {
   "cell_type": "code",
   "execution_count": 49,
   "metadata": {},
   "outputs": [
    {
     "data": {
      "text/plain": [
       "[{'Cost': 36076, 'goals': 31, 'lose': 9, 'name': 'FC Rio Ave', 'players': 23},\n",
       " {'Cost': 58632, 'goals': 76, 'lose': 3, 'name': 'FC Porto', 'players': 26},\n",
       " {'Cost': 15464,\n",
       "  'goals': 18,\n",
       "  'lose': 12,\n",
       "  'name': 'Moreirense FC',\n",
       "  'players': 25},\n",
       " {'Cost': 43714,\n",
       "  'goals': 25,\n",
       "  'lose': 12,\n",
       "  'name': 'FC Paços de Ferreira',\n",
       "  'players': 31},\n",
       " {'Cost': 55295, 'goals': 55, 'lose': 4, 'name': 'Sporting CP', 'players': 27},\n",
       " {'Cost': 77159,\n",
       "  'goals': 18,\n",
       "  'lose': 9,\n",
       "  'name': 'Maritimo Funchal',\n",
       "  'players': 28},\n",
       " {'Cost': 41628, 'goals': 27, 'lose': 12, 'name': 'CD Tondela', 'players': 26},\n",
       " {'Cost': 98345, 'goals': 60, 'lose': 7, 'name': 'SL Benfica', 'players': 24},\n",
       " {'Cost': 90887,\n",
       "  'goals': 23,\n",
       "  'lose': 11,\n",
       "  'name': 'Boavista Porto FC',\n",
       "  'players': 29},\n",
       " {'Cost': 83555, 'goals': 0, 'lose': 0, 'name': 'FC Arouca', 'players': 21},\n",
       " {'Cost': 55115,\n",
       "  'goals': 26,\n",
       "  'lose': 10,\n",
       "  'name': 'Vitoria Setubal',\n",
       "  'players': 28},\n",
       " {'Cost': 79000,\n",
       "  'goals': 21,\n",
       "  'lose': 11,\n",
       "  'name': 'C.F. Os Belenenses',\n",
       "  'players': 25},\n",
       " {'Cost': 39509,\n",
       "  'goals': 30,\n",
       "  'lose': 12,\n",
       "  'name': 'Vitoria Guimaraes',\n",
       "  'players': 30},\n",
       " {'Cost': 83450,\n",
       "  'goals': 48,\n",
       "  'lose': 6,\n",
       "  'name': 'Sporting Braga',\n",
       "  'players': 24},\n",
       " {'Cost': 53827,\n",
       "  'goals': 23,\n",
       "  'lose': 14,\n",
       "  'name': 'GD Estoril Praia',\n",
       "  'players': 29},\n",
       " {'Cost': 34147, 'goals': 20, 'lose': 15, 'name': 'Feirense', 'players': 29},\n",
       " {'Cost': 64355,\n",
       "  'goals': 0,\n",
       "  'lose': 0,\n",
       "  'name': 'Nacional Funchal',\n",
       "  'players': 18},\n",
       " {'Cost': 61598, 'goals': 29, 'lose': 8, 'name': 'G.D. Chaves', 'players': 22}]"
      ]
     },
     "execution_count": 49,
     "metadata": {},
     "output_type": "execute_result"
    }
   ],
   "source": [
    "team_for_pd = []\n",
    "for team in teams:\n",
    "#     print(team)\n",
    "#     print('--------------------')\n",
    "    if team['players']:\n",
    "        team_for_pd.append({\n",
    "            'name': team['name'], \n",
    "            'players': len(team['players']), \n",
    "            'goals': team['goals'], \n",
    "            'lose': team['lose'],\n",
    "            'Cost': random.randint(10000, 100000)   #  team['squadMarketValue']\n",
    "        })\n",
    "team_for_pd"
   ]
  },
  {
   "cell_type": "code",
   "execution_count": 50,
   "metadata": {},
   "outputs": [
    {
     "data": {
      "text/html": [
       "<div>\n",
       "<style>\n",
       "    .dataframe thead tr:only-child th {\n",
       "        text-align: right;\n",
       "    }\n",
       "\n",
       "    .dataframe thead th {\n",
       "        text-align: left;\n",
       "    }\n",
       "\n",
       "    .dataframe tbody tr th {\n",
       "        vertical-align: top;\n",
       "    }\n",
       "</style>\n",
       "<table border=\"1\" class=\"dataframe\">\n",
       "  <thead>\n",
       "    <tr style=\"text-align: right;\">\n",
       "      <th></th>\n",
       "      <th>Cost</th>\n",
       "      <th>goals</th>\n",
       "      <th>lose</th>\n",
       "      <th>name</th>\n",
       "      <th>players</th>\n",
       "    </tr>\n",
       "  </thead>\n",
       "  <tbody>\n",
       "    <tr>\n",
       "      <th>0</th>\n",
       "      <td>36076</td>\n",
       "      <td>31</td>\n",
       "      <td>9</td>\n",
       "      <td>FC Rio Ave</td>\n",
       "      <td>23</td>\n",
       "    </tr>\n",
       "    <tr>\n",
       "      <th>1</th>\n",
       "      <td>58632</td>\n",
       "      <td>76</td>\n",
       "      <td>3</td>\n",
       "      <td>FC Porto</td>\n",
       "      <td>26</td>\n",
       "    </tr>\n",
       "    <tr>\n",
       "      <th>2</th>\n",
       "      <td>15464</td>\n",
       "      <td>18</td>\n",
       "      <td>12</td>\n",
       "      <td>Moreirense FC</td>\n",
       "      <td>25</td>\n",
       "    </tr>\n",
       "    <tr>\n",
       "      <th>3</th>\n",
       "      <td>43714</td>\n",
       "      <td>25</td>\n",
       "      <td>12</td>\n",
       "      <td>FC Paços de Ferreira</td>\n",
       "      <td>31</td>\n",
       "    </tr>\n",
       "    <tr>\n",
       "      <th>4</th>\n",
       "      <td>55295</td>\n",
       "      <td>55</td>\n",
       "      <td>4</td>\n",
       "      <td>Sporting CP</td>\n",
       "      <td>27</td>\n",
       "    </tr>\n",
       "    <tr>\n",
       "      <th>5</th>\n",
       "      <td>77159</td>\n",
       "      <td>18</td>\n",
       "      <td>9</td>\n",
       "      <td>Maritimo Funchal</td>\n",
       "      <td>28</td>\n",
       "    </tr>\n",
       "    <tr>\n",
       "      <th>6</th>\n",
       "      <td>41628</td>\n",
       "      <td>27</td>\n",
       "      <td>12</td>\n",
       "      <td>CD Tondela</td>\n",
       "      <td>26</td>\n",
       "    </tr>\n",
       "    <tr>\n",
       "      <th>7</th>\n",
       "      <td>98345</td>\n",
       "      <td>60</td>\n",
       "      <td>7</td>\n",
       "      <td>SL Benfica</td>\n",
       "      <td>24</td>\n",
       "    </tr>\n",
       "    <tr>\n",
       "      <th>8</th>\n",
       "      <td>90887</td>\n",
       "      <td>23</td>\n",
       "      <td>11</td>\n",
       "      <td>Boavista Porto FC</td>\n",
       "      <td>29</td>\n",
       "    </tr>\n",
       "    <tr>\n",
       "      <th>9</th>\n",
       "      <td>83555</td>\n",
       "      <td>0</td>\n",
       "      <td>0</td>\n",
       "      <td>FC Arouca</td>\n",
       "      <td>21</td>\n",
       "    </tr>\n",
       "    <tr>\n",
       "      <th>10</th>\n",
       "      <td>55115</td>\n",
       "      <td>26</td>\n",
       "      <td>10</td>\n",
       "      <td>Vitoria Setubal</td>\n",
       "      <td>28</td>\n",
       "    </tr>\n",
       "    <tr>\n",
       "      <th>11</th>\n",
       "      <td>79000</td>\n",
       "      <td>21</td>\n",
       "      <td>11</td>\n",
       "      <td>C.F. Os Belenenses</td>\n",
       "      <td>25</td>\n",
       "    </tr>\n",
       "    <tr>\n",
       "      <th>12</th>\n",
       "      <td>39509</td>\n",
       "      <td>30</td>\n",
       "      <td>12</td>\n",
       "      <td>Vitoria Guimaraes</td>\n",
       "      <td>30</td>\n",
       "    </tr>\n",
       "    <tr>\n",
       "      <th>13</th>\n",
       "      <td>83450</td>\n",
       "      <td>48</td>\n",
       "      <td>6</td>\n",
       "      <td>Sporting Braga</td>\n",
       "      <td>24</td>\n",
       "    </tr>\n",
       "    <tr>\n",
       "      <th>14</th>\n",
       "      <td>53827</td>\n",
       "      <td>23</td>\n",
       "      <td>14</td>\n",
       "      <td>GD Estoril Praia</td>\n",
       "      <td>29</td>\n",
       "    </tr>\n",
       "    <tr>\n",
       "      <th>15</th>\n",
       "      <td>34147</td>\n",
       "      <td>20</td>\n",
       "      <td>15</td>\n",
       "      <td>Feirense</td>\n",
       "      <td>29</td>\n",
       "    </tr>\n",
       "    <tr>\n",
       "      <th>16</th>\n",
       "      <td>64355</td>\n",
       "      <td>0</td>\n",
       "      <td>0</td>\n",
       "      <td>Nacional Funchal</td>\n",
       "      <td>18</td>\n",
       "    </tr>\n",
       "    <tr>\n",
       "      <th>17</th>\n",
       "      <td>61598</td>\n",
       "      <td>29</td>\n",
       "      <td>8</td>\n",
       "      <td>G.D. Chaves</td>\n",
       "      <td>22</td>\n",
       "    </tr>\n",
       "  </tbody>\n",
       "</table>\n",
       "</div>"
      ],
      "text/plain": [
       "     Cost  goals  lose                  name  players\n",
       "0   36076     31     9            FC Rio Ave       23\n",
       "1   58632     76     3              FC Porto       26\n",
       "2   15464     18    12         Moreirense FC       25\n",
       "3   43714     25    12  FC Paços de Ferreira       31\n",
       "4   55295     55     4           Sporting CP       27\n",
       "5   77159     18     9      Maritimo Funchal       28\n",
       "6   41628     27    12            CD Tondela       26\n",
       "7   98345     60     7            SL Benfica       24\n",
       "8   90887     23    11     Boavista Porto FC       29\n",
       "9   83555      0     0             FC Arouca       21\n",
       "10  55115     26    10       Vitoria Setubal       28\n",
       "11  79000     21    11    C.F. Os Belenenses       25\n",
       "12  39509     30    12     Vitoria Guimaraes       30\n",
       "13  83450     48     6        Sporting Braga       24\n",
       "14  53827     23    14      GD Estoril Praia       29\n",
       "15  34147     20    15              Feirense       29\n",
       "16  64355      0     0      Nacional Funchal       18\n",
       "17  61598     29     8           G.D. Chaves       22"
      ]
     },
     "execution_count": 50,
     "metadata": {},
     "output_type": "execute_result"
    }
   ],
   "source": [
    "teams_pd = pd.DataFrame(team_for_pd)\n",
    "teams_pd"
   ]
  },
  {
   "cell_type": "code",
   "execution_count": 52,
   "metadata": {},
   "outputs": [
    {
     "data": {
      "text/plain": [
       "<matplotlib.axes._subplots.AxesSubplot at 0x611872f28>"
      ]
     },
     "execution_count": 52,
     "metadata": {},
     "output_type": "execute_result"
    },
    {
     "data": {
      "image/png": "[encoded data removed]",
      "text/plain": [
       "<matplotlib.figure.Figure at 0x61185c160>"
      ]
     },
     "metadata": {},
     "output_type": "display_data"
    }
   ],
   "source": [
    "teams_pd.plot.scatter(x='Cost', y='lose', s=100)"
   ]
  },
  {
   "cell_type": "code",
   "execution_count": 54,
   "metadata": {},
   "outputs": [
    {
     "data": {
      "text/html": [
       "<div>\n",
       "<style>\n",
       "    .dataframe thead tr:only-child th {\n",
       "        text-align: right;\n",
       "    }\n",
       "\n",
       "    .dataframe thead th {\n",
       "        text-align: left;\n",
       "    }\n",
       "\n",
       "    .dataframe tbody tr th {\n",
       "        vertical-align: top;\n",
       "    }\n",
       "</style>\n",
       "<table border=\"1\" class=\"dataframe\">\n",
       "  <thead>\n",
       "    <tr style=\"text-align: right;\">\n",
       "      <th></th>\n",
       "      <th>Cost</th>\n",
       "      <th>lose</th>\n",
       "    </tr>\n",
       "  </thead>\n",
       "  <tbody>\n",
       "    <tr>\n",
       "      <th>0</th>\n",
       "      <td>36076</td>\n",
       "      <td>9</td>\n",
       "    </tr>\n",
       "    <tr>\n",
       "      <th>1</th>\n",
       "      <td>58632</td>\n",
       "      <td>3</td>\n",
       "    </tr>\n",
       "    <tr>\n",
       "      <th>2</th>\n",
       "      <td>15464</td>\n",
       "      <td>12</td>\n",
       "    </tr>\n",
       "    <tr>\n",
       "      <th>3</th>\n",
       "      <td>43714</td>\n",
       "      <td>12</td>\n",
       "    </tr>\n",
       "    <tr>\n",
       "      <th>4</th>\n",
       "      <td>55295</td>\n",
       "      <td>4</td>\n",
       "    </tr>\n",
       "    <tr>\n",
       "      <th>5</th>\n",
       "      <td>77159</td>\n",
       "      <td>9</td>\n",
       "    </tr>\n",
       "    <tr>\n",
       "      <th>6</th>\n",
       "      <td>41628</td>\n",
       "      <td>12</td>\n",
       "    </tr>\n",
       "    <tr>\n",
       "      <th>7</th>\n",
       "      <td>98345</td>\n",
       "      <td>7</td>\n",
       "    </tr>\n",
       "    <tr>\n",
       "      <th>8</th>\n",
       "      <td>90887</td>\n",
       "      <td>11</td>\n",
       "    </tr>\n",
       "    <tr>\n",
       "      <th>9</th>\n",
       "      <td>83555</td>\n",
       "      <td>0</td>\n",
       "    </tr>\n",
       "    <tr>\n",
       "      <th>10</th>\n",
       "      <td>55115</td>\n",
       "      <td>10</td>\n",
       "    </tr>\n",
       "    <tr>\n",
       "      <th>11</th>\n",
       "      <td>79000</td>\n",
       "      <td>11</td>\n",
       "    </tr>\n",
       "    <tr>\n",
       "      <th>12</th>\n",
       "      <td>39509</td>\n",
       "      <td>12</td>\n",
       "    </tr>\n",
       "    <tr>\n",
       "      <th>13</th>\n",
       "      <td>83450</td>\n",
       "      <td>6</td>\n",
       "    </tr>\n",
       "    <tr>\n",
       "      <th>14</th>\n",
       "      <td>53827</td>\n",
       "      <td>14</td>\n",
       "    </tr>\n",
       "    <tr>\n",
       "      <th>15</th>\n",
       "      <td>34147</td>\n",
       "      <td>15</td>\n",
       "    </tr>\n",
       "    <tr>\n",
       "      <th>16</th>\n",
       "      <td>64355</td>\n",
       "      <td>0</td>\n",
       "    </tr>\n",
       "    <tr>\n",
       "      <th>17</th>\n",
       "      <td>61598</td>\n",
       "      <td>8</td>\n",
       "    </tr>\n",
       "  </tbody>\n",
       "</table>\n",
       "</div>"
      ],
      "text/plain": [
       "     Cost  lose\n",
       "0   36076     9\n",
       "1   58632     3\n",
       "2   15464    12\n",
       "3   43714    12\n",
       "4   55295     4\n",
       "5   77159     9\n",
       "6   41628    12\n",
       "7   98345     7\n",
       "8   90887    11\n",
       "9   83555     0\n",
       "10  55115    10\n",
       "11  79000    11\n",
       "12  39509    12\n",
       "13  83450     6\n",
       "14  53827    14\n",
       "15  34147    15\n",
       "16  64355     0\n",
       "17  61598     8"
      ]
     },
     "execution_count": 54,
     "metadata": {},
     "output_type": "execute_result"
    }
   ],
   "source": [
    "del teams_pd['name']\n",
    "del teams_pd['players']\n",
    "del teams_pd['goals']\n",
    "teams_pd"
   ]
  },
  {
   "cell_type": "code",
   "execution_count": 55,
   "metadata": {},
   "outputs": [
    {
     "data": {
      "text/plain": [
       "array([[ 1.65672704,  2.06996007],\n",
       "       [ 2.69257178,  0.68998669],\n",
       "       [ 0.71015708,  2.75994676],\n",
       "       [ 2.00748879,  2.75994676],\n",
       "       [ 2.53932591,  0.91998225],\n",
       "       [ 3.54339177,  2.06996007],\n",
       "       [ 1.9116929 ,  2.75994676],\n",
       "       [ 4.51632166,  1.60996894],\n",
       "       [ 4.17382609,  2.5299512 ],\n",
       "       [ 3.83711685,  0.        ],\n",
       "       [ 2.53105972,  2.29995563],\n",
       "       [ 3.62793646,  2.5299512 ],\n",
       "       [ 1.81438154,  2.75994676],\n",
       "       [ 3.83229491,  1.37997338],\n",
       "       [ 2.47191058,  3.21993789],\n",
       "       [ 1.56814109,  3.44993345],\n",
       "       [ 2.95539052,  0.        ],\n",
       "       [ 2.82878013,  1.83996451]])"
      ]
     },
     "execution_count": 55,
     "metadata": {},
     "output_type": "execute_result"
    }
   ],
   "source": [
    "whitened = whiten(teams_pd.as_matrix())\n",
    "whitened"
   ]
  },
  {
   "cell_type": "code",
   "execution_count": 56,
   "metadata": {},
   "outputs": [
    {
     "data": {
      "text/plain": [
       "(array([[ 3.7537585 ,  1.99329488],\n",
       "        [ 3.00610126,  0.40249224],\n",
       "        [ 1.83394484,  2.75994676]]),\n",
       " array([2, 1, 2, 2, 1, 0, 2, 0, 0, 1, 2, 0, 2, 0, 2, 2, 1, 0], dtype=int32))"
      ]
     },
     "execution_count": 56,
     "metadata": {},
     "output_type": "execute_result"
    }
   ],
   "source": [
    "centroids, cluster_map = kmeans2(whitened, 3)\n",
    "centroids, cluster_map"
   ]
  },
  {
   "cell_type": "code",
   "execution_count": 57,
   "metadata": {},
   "outputs": [
    {
     "data": {
      "text/plain": [
       "['b',\n",
       " 'g',\n",
       " 'b',\n",
       " 'b',\n",
       " 'g',\n",
       " 'r',\n",
       " 'b',\n",
       " 'r',\n",
       " 'r',\n",
       " 'g',\n",
       " 'b',\n",
       " 'r',\n",
       " 'b',\n",
       " 'r',\n",
       " 'b',\n",
       " 'b',\n",
       " 'g',\n",
       " 'r']"
      ]
     },
     "execution_count": 57,
     "metadata": {},
     "output_type": "execute_result"
    }
   ],
   "source": [
    "colors_map = {0: 'r', 1: 'g', 2: 'b', 3: 'y', 4: 'm'}\n",
    "colors = [colors_map[c] for c in cluster_map]\n",
    "colors"
   ]
  },
  {
   "cell_type": "code",
   "execution_count": 58,
   "metadata": {},
   "outputs": [
    {
     "data": {
      "text/plain": [
       "<matplotlib.axes._subplots.AxesSubplot at 0x61185c518>"
      ]
     },
     "execution_count": 58,
     "metadata": {},
     "output_type": "execute_result"
    },
    {
     "data": {
      "image/png": "[encoded data removed]",
      "text/plain": [
       "<matplotlib.figure.Figure at 0x6087bf550>"
      ]
     },
     "metadata": {},
     "output_type": "display_data"
    }
   ],
   "source": [
    "teams_pd.plot.scatter(x='Cost', y='lose', c=colors, s=100)"
   ]
  },
  {
   "cell_type": "code",
   "execution_count": null,
   "metadata": {
    "collapsed": true
   },
   "outputs": [],
   "source": [
    "Используя kmeans сделать кластеризацию футбольных команд по стоимости и количеству проигрышей, \n",
    "результат отобразить в виде точечного графика для случая из 3 и из 5 кластеров. Если стоимость \n",
    "команд не указана, то сгенерировать случайные стоимости для команд."
   ]
  },
  {
   "cell_type": "code",
   "execution_count": 59,
   "metadata": {},
   "outputs": [
    {
     "data": {
      "text/plain": [
       "(array([[ 2.68689261,  1.14997782],\n",
       "        [ 3.93875418,  2.02396096],\n",
       "        [ 1.13914909,  3.10494011],\n",
       "        [ 2.06554343,  2.64494898],\n",
       "        [ 3.39625368,  0.        ]]),\n",
       " array([3, 0, 2, 3, 0, 1, 3, 1, 1, 4, 3, 1, 3, 1, 3, 2, 4, 0], dtype=int32))"
      ]
     },
     "execution_count": 59,
     "metadata": {},
     "output_type": "execute_result"
    }
   ],
   "source": [
    "centroids, cluster_map = kmeans2(whitened, 5)\n",
    "centroids, cluster_map"
   ]
  },
  {
   "cell_type": "code",
   "execution_count": 61,
   "metadata": {},
   "outputs": [
    {
     "data": {
      "text/plain": [
       "<matplotlib.axes._subplots.AxesSubplot at 0x611bc39b0>"
      ]
     },
     "execution_count": 61,
     "metadata": {},
     "output_type": "execute_result"
    },
    {
     "data": {
      "image/png": "[encoded data removed]",
      "text/plain": [
       "<matplotlib.figure.Figure at 0x6117bd978>"
      ]
     },
     "metadata": {},
     "output_type": "display_data"
    }
   ],
   "source": [
    "colors_map = {0: 'r', 1: 'g', 2: 'b', 3: 'y', 4: 'm'}\n",
    "colors = [colors_map[c] for c in cluster_map]\n",
    "# colors\n",
    "teams_pd.plot.scatter(x='Cost', y='lose', c=colors, s=100)"
   ]
  },
  {
   "cell_type": "code",
   "execution_count": null,
   "metadata": {
    "collapsed": true
   },
   "outputs": [],
   "source": []
  }
 ],
 "metadata": {
  "kernelspec": {
   "display_name": "Python 3",
   "language": "python",
   "name": "python3"
  },
  "language_info": {
   "codemirror_mode": {
    "name": "ipython",
    "version": 3
   },
   "file_extension": ".py",
   "mimetype": "text/x-python",
   "name": "python",
   "nbconvert_exporter": "python",
   "pygments_lexer": "ipython3",
   "version": "3.6.3"
  }
 },
 "nbformat": 4,
 "nbformat_minor": 2
}
