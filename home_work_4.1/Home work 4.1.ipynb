{
 "cells": [
  {
   "cell_type": "code",
   "execution_count": null,
   "metadata": {
    "collapsed": true
   },
   "outputs": [],
   "source": [
    "import pandas as pd\n",
    "\n",
    "import numpy as np\n",
    "\n",
    "import matplotlib.pyplot as plt\n",
    "\n",
    "import os"
   ]
  },
  {
   "cell_type": "code",
   "execution_count": null,
   "metadata": {
    "collapsed": true
   },
   "outputs": [],
   "source": [
    "file_path = 'http://localhost:8888/tree/Downloads/names/'"
   ]
  },
  {
   "cell_type": "code",
   "execution_count": null,
   "metadata": {
    "collapsed": true
   },
   "outputs": [],
   "source": [
    "def most_popular_names(list):\n",
    "    result = []\n",
    "    for year in list:\n",
    "        full_path = os.path.join(file_path, 'yob{}.txt'.format(year))\n",
    "        file_content = pd.read_csv(full_path, names=['Name', 'Gender', 'Count'])\n",
    "        temp_result = file_content.sort_values(by='Count', ascending=True).head(3)\n",
    "        result.append(temp_result[names.Name.head(3)])\n",
    "    return result\n",
    "\n",
    "most_popular_names([1905, 1952])\n",
    "    "
   ]
  },
  {
   "cell_type": "code",
   "execution_count": null,
   "metadata": {
    "collapsed": true
   },
   "outputs": [],
   "source": [
    "def count_dynamics(years):\n",
    "    result_m = []\n",
    "    result_f = []\n",
    "    for year in years:\n",
    "        full_path = os.path.join(file_path, 'yob{}.txt'.format(year))\n",
    "        file_content = pd.read_csv(full_path, names=['Name', 'Gender', 'Count'])\n",
    "        temp_result_m = file_content[names.Gender=='M'].Count.sum()\n",
    "        temp_result_f = file_content[names.Gender=='F'].Count.sum()\n",
    "        result_m.append(temp_result_m)\n",
    "        result_f.append(temp_result_f)\n",
    "    result = {'F': result_f, 'M': result_m}\n",
    "    return result\n",
    "\n",
    "count_dynamics([1951, 2000, 2001])"
   ]
  }
 ],
 "metadata": {
  "kernelspec": {
   "display_name": "Python 3",
   "language": "python",
   "name": "python3"
  },
  "language_info": {
   "codemirror_mode": {
    "name": "ipython",
    "version": 3
   },
   "file_extension": ".py",
   "mimetype": "text/x-python",
   "name": "python",
   "nbconvert_exporter": "python",
   "pygments_lexer": "ipython3",
   "version": "3.6.3"
  }
 },
 "nbformat": 4,
 "nbformat_minor": 2
}
