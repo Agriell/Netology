{
 "cells": [
  {
   "cell_type": "code",
   "execution_count": 1,
   "metadata": {
    "collapsed": true
   },
   "outputs": [],
   "source": [
    "import pandas as pd\n",
    "import numpy as np\n",
    "import matplotlib.pyplot as plt\n",
    "import os"
   ]
  },
  {
   "cell_type": "code",
   "execution_count": 2,
   "metadata": {
    "collapsed": true
   },
   "outputs": [],
   "source": [
    "file_path = '/users/dmitrygalkin/downloads/hw_4.1'"
   ]
  },
  {
   "cell_type": "code",
   "execution_count": null,
   "metadata": {
    "collapsed": true
   },
   "outputs": [],
   "source": [
    "С использованием Pandas написать функцию, которая загружает указанные года и выводит ТОП-3 популярных имен. Например:\n",
    "\n",
    "      \n",
    "        count_top3([1880]) == ['John', 'William', 'Mary']\n",
    "        count_top3([1900, 1950, 2000]) == ['James', 'John', 'Robert']\n",
    "      "
   ]
  },
  {
   "cell_type": "code",
   "execution_count": 42,
   "metadata": {},
   "outputs": [
    {
     "data": {
      "text/plain": [
       "['James, Robert, John']"
      ]
     },
     "execution_count": 42,
     "metadata": {},
     "output_type": "execute_result"
    }
   ],
   "source": [
    "def most_popular_names(list):\n",
    "    data = {}\n",
    "    for year in list:\n",
    "        full_path = os.path.join(file_path, 'yob{}.txt'.format(year))\n",
    "        data[year] = pd.read_csv(full_path, names=['Name', 'Gender', 'Count'])\n",
    "    all_years = pd.concat(data, names=['Year'])\n",
    "    sorted = all_years.sort_values(by='Count', ascending=False).head(3)\n",
    "    result = [', '.join(sorted['Name'])]\n",
    "    return result\n",
    "\n",
    "most_popular_names([1905, 1952, 1980, 1990])\n",
    "    "
   ]
  },
  {
   "cell_type": "code",
   "execution_count": null,
   "metadata": {
    "collapsed": true
   },
   "outputs": [],
   "source": [
    "С использованием Pandas написать функцию, которая возвращает динамику изменения количества имен за \n",
    "указанные года в разрезе полов. Например:\n",
    "\n",
    "      \n",
    "        count_dynamics([1900, 1950, 2000]) == {\n",
    "          'F': [299810, 1713259, 1814922],\n",
    "          'M': [150486, 1790871, 1962744]\n",
    "        }"
   ]
  },
  {
   "cell_type": "code",
   "execution_count": 48,
   "metadata": {},
   "outputs": [
    {
     "data": {
      "text/plain": [
       "{'F': [1800899, 1814922, 1799416, 1954733, 1103328],\n",
       " 'M': [1883265, 1962744, 1941595, 2058200, 1108932]}"
      ]
     },
     "execution_count": 48,
     "metadata": {},
     "output_type": "execute_result"
    }
   ],
   "source": [
    "def count_dynamics(years):\n",
    "    data = {}\n",
    "    result_m = []\n",
    "    result_f = []\n",
    "    for year in years:\n",
    "        full_path = os.path.join(file_path, 'yob{}.txt'.format(year))\n",
    "        data[year] = pd.read_csv(full_path, names=['Name', 'Gender', 'Count'])\n",
    "        m = data[year][data[year].Gender=='M'].Count.sum()\n",
    "        f = data[year][data[year].Gender=='F'].Count.sum()\n",
    "        result_m.append(m)\n",
    "        result_f.append(f)\n",
    "    result = {'F': result_f, 'M': result_m}\n",
    "    return result\n",
    "\n",
    "count_dynamics([1951, 2000, 2001, 1955, 1938])"
   ]
  },
  {
   "cell_type": "code",
   "execution_count": null,
   "metadata": {
    "collapsed": true
   },
   "outputs": [],
   "source": []
  }
 ],
 "metadata": {
  "kernelspec": {
   "display_name": "Python 3",
   "language": "python",
   "name": "python3"
  },
  "language_info": {
   "codemirror_mode": {
    "name": "ipython",
    "version": 3
   },
   "file_extension": ".py",
   "mimetype": "text/x-python",
   "name": "python",
   "nbconvert_exporter": "python",
   "pygments_lexer": "ipython3",
   "version": "3.6.3"
  }
 },
 "nbformat": 4,
 "nbformat_minor": 2
}
